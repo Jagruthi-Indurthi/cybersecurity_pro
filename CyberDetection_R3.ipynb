{
 "cells": [
  {
   "cell_type": "code",
   "execution_count": 3,
   "id": "c14f8c12-0866-40a0-a94c-e3fa0abe9b27",
   "metadata": {},
   "outputs": [
    {
     "data": {
      "text/html": [
       "<div>\n",
       "<style scoped>\n",
       "    .dataframe tbody tr th:only-of-type {\n",
       "        vertical-align: middle;\n",
       "    }\n",
       "\n",
       "    .dataframe tbody tr th {\n",
       "        vertical-align: top;\n",
       "    }\n",
       "\n",
       "    .dataframe thead th {\n",
       "        text-align: right;\n",
       "    }\n",
       "</style>\n",
       "<table border=\"1\" class=\"dataframe\">\n",
       "  <thead>\n",
       "    <tr style=\"text-align: right;\">\n",
       "      <th></th>\n",
       "      <th>timestamp</th>\n",
       "      <th>user</th>\n",
       "      <th>ip_address</th>\n",
       "      <th>action</th>\n",
       "      <th>status</th>\n",
       "    </tr>\n",
       "  </thead>\n",
       "  <tbody>\n",
       "    <tr>\n",
       "      <th>0</th>\n",
       "      <td>2025-07-11 10:02:01</td>\n",
       "      <td>admin</td>\n",
       "      <td>192.168.1.10</td>\n",
       "      <td>login_attempt</td>\n",
       "      <td>failed</td>\n",
       "    </tr>\n",
       "    <tr>\n",
       "      <th>1</th>\n",
       "      <td>2025-07-11 10:02:05</td>\n",
       "      <td>admin</td>\n",
       "      <td>192.168.1.10</td>\n",
       "      <td>login_attempt</td>\n",
       "      <td>failed</td>\n",
       "    </tr>\n",
       "    <tr>\n",
       "      <th>2</th>\n",
       "      <td>2025-07-11 10:02:10</td>\n",
       "      <td>admin</td>\n",
       "      <td>192.168.1.10</td>\n",
       "      <td>login_attempt</td>\n",
       "      <td>success</td>\n",
       "    </tr>\n",
       "    <tr>\n",
       "      <th>3</th>\n",
       "      <td>2025-07-11 10:05:00</td>\n",
       "      <td>guest</td>\n",
       "      <td>192.168.1.12</td>\n",
       "      <td>file_access</td>\n",
       "      <td>success</td>\n",
       "    </tr>\n",
       "    <tr>\n",
       "      <th>4</th>\n",
       "      <td>2025-07-11 10:06:30</td>\n",
       "      <td>guest</td>\n",
       "      <td>192.168.1.12</td>\n",
       "      <td>file_access</td>\n",
       "      <td>success</td>\n",
       "    </tr>\n",
       "  </tbody>\n",
       "</table>\n",
       "</div>"
      ],
      "text/plain": [
       "             timestamp   user    ip_address         action   status\n",
       "0  2025-07-11 10:02:01  admin  192.168.1.10  login_attempt   failed\n",
       "1  2025-07-11 10:02:05  admin  192.168.1.10  login_attempt   failed\n",
       "2  2025-07-11 10:02:10  admin  192.168.1.10  login_attempt  success\n",
       "3  2025-07-11 10:05:00  guest  192.168.1.12    file_access  success\n",
       "4  2025-07-11 10:06:30  guest  192.168.1.12    file_access  success"
      ]
     },
     "execution_count": 3,
     "metadata": {},
     "output_type": "execute_result"
    }
   ],
   "source": [
    "import pandas as pd\n",
    "\n",
    "# Load system logs data\n",
    "df = pd.read_excel(\"system_logs.xecel.xlsx\")\n",
    "\n",
    "# Show first few rows\n",
    "df.head()"
   ]
  },
  {
   "cell_type": "code",
   "execution_count": 9,
   "id": "45e00ab6-a928-4369-8fe8-21f7db0ba0e9",
   "metadata": {},
   "outputs": [
    {
     "data": {
      "text/plain": [
       "['timestamp', 'user', 'ip_address', 'action', 'status']"
      ]
     },
     "execution_count": 9,
     "metadata": {},
     "output_type": "execute_result"
    }
   ],
   "source": [
    "df.columns.tolist()"
   ]
  },
  {
   "cell_type": "code",
   "execution_count": 12,
   "id": "698b4afb-db75-4d78-bb91-c637954db6bb",
   "metadata": {},
   "outputs": [
    {
     "data": {
      "text/html": [
       "<div>\n",
       "<style scoped>\n",
       "    .dataframe tbody tr th:only-of-type {\n",
       "        vertical-align: middle;\n",
       "    }\n",
       "\n",
       "    .dataframe tbody tr th {\n",
       "        vertical-align: top;\n",
       "    }\n",
       "\n",
       "    .dataframe thead th {\n",
       "        text-align: right;\n",
       "    }\n",
       "</style>\n",
       "<table border=\"1\" class=\"dataframe\">\n",
       "  <thead>\n",
       "    <tr style=\"text-align: right;\">\n",
       "      <th></th>\n",
       "      <th>action</th>\n",
       "      <th>status</th>\n",
       "      <th>Is_Threat</th>\n",
       "    </tr>\n",
       "  </thead>\n",
       "  <tbody>\n",
       "    <tr>\n",
       "      <th>0</th>\n",
       "      <td>login_attempt</td>\n",
       "      <td>failed</td>\n",
       "      <td>1</td>\n",
       "    </tr>\n",
       "    <tr>\n",
       "      <th>1</th>\n",
       "      <td>login_attempt</td>\n",
       "      <td>failed</td>\n",
       "      <td>1</td>\n",
       "    </tr>\n",
       "    <tr>\n",
       "      <th>2</th>\n",
       "      <td>login_attempt</td>\n",
       "      <td>success</td>\n",
       "      <td>0</td>\n",
       "    </tr>\n",
       "    <tr>\n",
       "      <th>3</th>\n",
       "      <td>file_access</td>\n",
       "      <td>success</td>\n",
       "      <td>0</td>\n",
       "    </tr>\n",
       "    <tr>\n",
       "      <th>4</th>\n",
       "      <td>file_access</td>\n",
       "      <td>success</td>\n",
       "      <td>0</td>\n",
       "    </tr>\n",
       "    <tr>\n",
       "      <th>5</th>\n",
       "      <td>login_attempt</td>\n",
       "      <td>failed</td>\n",
       "      <td>1</td>\n",
       "    </tr>\n",
       "    <tr>\n",
       "      <th>6</th>\n",
       "      <td>login_attempt</td>\n",
       "      <td>failed</td>\n",
       "      <td>1</td>\n",
       "    </tr>\n",
       "    <tr>\n",
       "      <th>7</th>\n",
       "      <td>login_attempt</td>\n",
       "      <td>failed</td>\n",
       "      <td>1</td>\n",
       "    </tr>\n",
       "    <tr>\n",
       "      <th>8</th>\n",
       "      <td>file_access</td>\n",
       "      <td>success</td>\n",
       "      <td>0</td>\n",
       "    </tr>\n",
       "  </tbody>\n",
       "</table>\n",
       "</div>"
      ],
      "text/plain": [
       "          action   status  Is_Threat\n",
       "0  login_attempt   failed          1\n",
       "1  login_attempt   failed          1\n",
       "2  login_attempt  success          0\n",
       "3    file_access  success          0\n",
       "4    file_access  success          0\n",
       "5  login_attempt   failed          1\n",
       "6  login_attempt   failed          1\n",
       "7  login_attempt   failed          1\n",
       "8    file_access  success          0"
      ]
     },
     "execution_count": 12,
     "metadata": {},
     "output_type": "execute_result"
    }
   ],
   "source": [
    "# Create 'Is_Threat' column based on simple keyword rules\n",
    "df['Is_Threat'] = df.apply(lambda row: 1 if (\n",
    "    ('fail' in str(row['status']).lower()) or \n",
    "    ('denied' in str(row['status']).lower())\n",
    ") else 0, axis=1)\n",
    "\n",
    "# Preview the first few rows\n",
    "df[['action', 'status', 'Is_Threat']].head(10)\n"
   ]
  },
  {
   "cell_type": "code",
   "execution_count": 13,
   "id": "8bbe496a-4238-46a1-81c1-500a2097ce52",
   "metadata": {},
   "outputs": [
    {
     "data": {
      "text/plain": [
       "Is_Threat\n",
       "1    5\n",
       "0    4\n",
       "Name: count, dtype: int64"
      ]
     },
     "execution_count": 13,
     "metadata": {},
     "output_type": "execute_result"
    }
   ],
   "source": [
    "# Count how many rows are threats vs non-threats\n",
    "df['Is_Threat'].value_counts()\n"
   ]
  },
  {
   "cell_type": "code",
   "execution_count": 14,
   "id": "e821fc5b-b814-498b-b799-4ce8ca5bcf23",
   "metadata": {},
   "outputs": [
    {
     "data": {
      "image/png": "[encoded data removed]",
      "text/plain": [
       "<Figure size 600x600 with 1 Axes>"
      ]
     },
     "metadata": {},
     "output_type": "display_data"
    }
   ],
   "source": [
    "import matplotlib.pyplot as plt\n",
    "\n",
    "# Count threat vs non-threat\n",
    "threat_counts = df['Is_Threat'].value_counts()\n",
    "\n",
    "# Plot\n",
    "labels = ['Not a Threat', 'Threat']\n",
    "colors = ['lightgreen', 'red']\n",
    "\n",
    "plt.figure(figsize=(6, 6))\n",
    "plt.pie(threat_counts, labels=labels, autopct='%1.1f%%', colors=colors, startangle=140)\n",
    "plt.title('Cybersecurity Threat Detection Overview')\n",
    "plt.axis('equal')\n",
    "plt.show()\n"
   ]
  },
  {
   "cell_type": "code",
   "execution_count": 15,
   "id": "757ef667-41ca-4f27-9193-5612ba892170",
   "metadata": {},
   "outputs": [],
   "source": [
    "df.to_excel(\"cyber_threats_detected.xlsx\", index=False)\n"
   ]
  },
  {
   "cell_type": "code",
   "execution_count": null,
   "id": "d423bbbf-12ca-4d22-b953-bc842b21c897",
   "metadata": {},
   "outputs": [],
   "source": []
  }
 ],
 "metadata": {
  "kernelspec": {
   "display_name": "Python 3 (ipykernel)",
   "language": "python",
   "name": "python3"
  },
  "language_info": {
   "codemirror_mode": {
    "name": "ipython",
    "version": 3
   },
   "file_extension": ".py",
   "mimetype": "text/x-python",
   "name": "python",
   "nbconvert_exporter": "python",
   "pygments_lexer": "ipython3",
   "version": "3.12.7"
  }
 },
 "nbformat": 4,
 "nbformat_minor": 5
}
