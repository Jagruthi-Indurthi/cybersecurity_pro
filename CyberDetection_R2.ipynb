{
 "cells": [
  {
   "cell_type": "markdown",
   "id": "8232ba19-3c9b-467a-a7ed-53ff6d26d877",
   "metadata": {},
   "source": [
    "# Cybersecurity Threat Detection – Round 2\n",
    "This notebook detects suspicious user behavior (e.g., too many failed login attempts) using machine learning (Isolation Forest).\n"
   ]
  },
  {
   "cell_type": "code",
   "execution_count": 1,
   "id": "4edbeac0-62d9-402e-8aef-6efeb4846161",
   "metadata": {},
   "outputs": [],
   "source": [
    "import pandas as pd\n",
    "from sklearn.ensemble import IsolationForest\n",
    "import matplotlib.pyplot as plt\n",
    "import seaborn as sns\n",
    "\n",
    "# Show plots inside the notebook\n",
    "%matplotlib inline"
   ]
  },
  {
   "cell_type": "code",
   "execution_count": 4,
   "id": "b621fc20-e05b-42a2-a7ef-7d6d7d45d876",
   "metadata": {},
   "outputs": [
    {
     "data": {
      "text/html": [
       "<div>\n",
       "<style scoped>\n",
       "    .dataframe tbody tr th:only-of-type {\n",
       "        vertical-align: middle;\n",
       "    }\n",
       "\n",
       "    .dataframe tbody tr th {\n",
       "        vertical-align: top;\n",
       "    }\n",
       "\n",
       "    .dataframe thead th {\n",
       "        text-align: right;\n",
       "    }\n",
       "</style>\n",
       "<table border=\"1\" class=\"dataframe\">\n",
       "  <thead>\n",
       "    <tr style=\"text-align: right;\">\n",
       "      <th></th>\n",
       "      <th>timestamp</th>\n",
       "      <th>user</th>\n",
       "      <th>ip_address</th>\n",
       "      <th>action</th>\n",
       "      <th>status</th>\n",
       "    </tr>\n",
       "  </thead>\n",
       "  <tbody>\n",
       "    <tr>\n",
       "      <th>0</th>\n",
       "      <td>2025-07-11 10:02:01</td>\n",
       "      <td>admin</td>\n",
       "      <td>192.168.1.10</td>\n",
       "      <td>login_attempt</td>\n",
       "      <td>failed</td>\n",
       "    </tr>\n",
       "    <tr>\n",
       "      <th>1</th>\n",
       "      <td>2025-07-11 10:02:05</td>\n",
       "      <td>admin</td>\n",
       "      <td>192.168.1.10</td>\n",
       "      <td>login_attempt</td>\n",
       "      <td>failed</td>\n",
       "    </tr>\n",
       "    <tr>\n",
       "      <th>2</th>\n",
       "      <td>2025-07-11 10:02:10</td>\n",
       "      <td>admin</td>\n",
       "      <td>192.168.1.10</td>\n",
       "      <td>login_attempt</td>\n",
       "      <td>success</td>\n",
       "    </tr>\n",
       "    <tr>\n",
       "      <th>3</th>\n",
       "      <td>2025-07-11 10:05:00</td>\n",
       "      <td>guest</td>\n",
       "      <td>192.168.1.12</td>\n",
       "      <td>file_access</td>\n",
       "      <td>success</td>\n",
       "    </tr>\n",
       "    <tr>\n",
       "      <th>4</th>\n",
       "      <td>2025-07-11 10:06:30</td>\n",
       "      <td>guest</td>\n",
       "      <td>192.168.1.12</td>\n",
       "      <td>file_access</td>\n",
       "      <td>success</td>\n",
       "    </tr>\n",
       "  </tbody>\n",
       "</table>\n",
       "</div>"
      ],
      "text/plain": [
       "             timestamp   user    ip_address         action   status\n",
       "0  2025-07-11 10:02:01  admin  192.168.1.10  login_attempt   failed\n",
       "1  2025-07-11 10:02:05  admin  192.168.1.10  login_attempt   failed\n",
       "2  2025-07-11 10:02:10  admin  192.168.1.10  login_attempt  success\n",
       "3  2025-07-11 10:05:00  guest  192.168.1.12    file_access  success\n",
       "4  2025-07-11 10:06:30  guest  192.168.1.12    file_access  success"
      ]
     },
     "execution_count": 4,
     "metadata": {},
     "output_type": "execute_result"
    }
   ],
   "source": [
    "# Load your Excel file (it should be in the same folder)\n",
    "df = pd.read_excel(\"system_logs.xecel.xlsx\")\n",
    "df.head()"
   ]
  },
  {
   "cell_type": "code",
   "execution_count": 5,
   "id": "8e9c9472-bc10-4e7d-9187-c4c885dc0c3d",
   "metadata": {},
   "outputs": [
    {
     "data": {
      "text/html": [
       "<div>\n",
       "<style scoped>\n",
       "    .dataframe tbody tr th:only-of-type {\n",
       "        vertical-align: middle;\n",
       "    }\n",
       "\n",
       "    .dataframe tbody tr th {\n",
       "        vertical-align: top;\n",
       "    }\n",
       "\n",
       "    .dataframe thead th {\n",
       "        text-align: right;\n",
       "    }\n",
       "</style>\n",
       "<table border=\"1\" class=\"dataframe\">\n",
       "  <thead>\n",
       "    <tr style=\"text-align: right;\">\n",
       "      <th></th>\n",
       "      <th>timestamp</th>\n",
       "      <th>user</th>\n",
       "      <th>ip_address</th>\n",
       "      <th>action</th>\n",
       "      <th>status</th>\n",
       "    </tr>\n",
       "  </thead>\n",
       "  <tbody>\n",
       "    <tr>\n",
       "      <th>0</th>\n",
       "      <td>2025-07-11 10:02:01</td>\n",
       "      <td>admin</td>\n",
       "      <td>192.168.1.10</td>\n",
       "      <td>login_attempt</td>\n",
       "      <td>failed</td>\n",
       "    </tr>\n",
       "    <tr>\n",
       "      <th>1</th>\n",
       "      <td>2025-07-11 10:02:05</td>\n",
       "      <td>admin</td>\n",
       "      <td>192.168.1.10</td>\n",
       "      <td>login_attempt</td>\n",
       "      <td>failed</td>\n",
       "    </tr>\n",
       "    <tr>\n",
       "      <th>2</th>\n",
       "      <td>2025-07-11 10:02:10</td>\n",
       "      <td>admin</td>\n",
       "      <td>192.168.1.10</td>\n",
       "      <td>login_attempt</td>\n",
       "      <td>success</td>\n",
       "    </tr>\n",
       "    <tr>\n",
       "      <th>5</th>\n",
       "      <td>2025-07-11 10:10:00</td>\n",
       "      <td>tester</td>\n",
       "      <td>192.168.1.14</td>\n",
       "      <td>login_attempt</td>\n",
       "      <td>failed</td>\n",
       "    </tr>\n",
       "    <tr>\n",
       "      <th>6</th>\n",
       "      <td>2025-07-11 10:10:05</td>\n",
       "      <td>tester</td>\n",
       "      <td>192.168.1.14</td>\n",
       "      <td>login_attempt</td>\n",
       "      <td>failed</td>\n",
       "    </tr>\n",
       "  </tbody>\n",
       "</table>\n",
       "</div>"
      ],
      "text/plain": [
       "             timestamp    user    ip_address         action   status\n",
       "0  2025-07-11 10:02:01   admin  192.168.1.10  login_attempt   failed\n",
       "1  2025-07-11 10:02:05   admin  192.168.1.10  login_attempt   failed\n",
       "2  2025-07-11 10:02:10   admin  192.168.1.10  login_attempt  success\n",
       "5  2025-07-11 10:10:00  tester  192.168.1.14  login_attempt   failed\n",
       "6  2025-07-11 10:10:05  tester  192.168.1.14  login_attempt   failed"
      ]
     },
     "execution_count": 5,
     "metadata": {},
     "output_type": "execute_result"
    }
   ],
   "source": [
    "# Filter rows where action is 'login_attempt'\n",
    "login_df = df[df['action'] == 'login_attempt']\n",
    "login_df.head()"
   ]
  },
  {
   "cell_type": "code",
   "execution_count": 6,
   "id": "e18b6619-5fdf-4d14-b12b-8a5cfd43d91b",
   "metadata": {},
   "outputs": [
    {
     "data": {
      "text/html": [
       "<div>\n",
       "<style scoped>\n",
       "    .dataframe tbody tr th:only-of-type {\n",
       "        vertical-align: middle;\n",
       "    }\n",
       "\n",
       "    .dataframe tbody tr th {\n",
       "        vertical-align: top;\n",
       "    }\n",
       "\n",
       "    .dataframe thead th {\n",
       "        text-align: right;\n",
       "    }\n",
       "</style>\n",
       "<table border=\"1\" class=\"dataframe\">\n",
       "  <thead>\n",
       "    <tr style=\"text-align: right;\">\n",
       "      <th></th>\n",
       "      <th>user</th>\n",
       "      <th>ip_address</th>\n",
       "      <th>fail_count</th>\n",
       "    </tr>\n",
       "  </thead>\n",
       "  <tbody>\n",
       "    <tr>\n",
       "      <th>0</th>\n",
       "      <td>admin</td>\n",
       "      <td>192.168.1.10</td>\n",
       "      <td>2</td>\n",
       "    </tr>\n",
       "    <tr>\n",
       "      <th>1</th>\n",
       "      <td>tester</td>\n",
       "      <td>192.168.1.14</td>\n",
       "      <td>3</td>\n",
       "    </tr>\n",
       "  </tbody>\n",
       "</table>\n",
       "</div>"
      ],
      "text/plain": [
       "     user    ip_address  fail_count\n",
       "0   admin  192.168.1.10           2\n",
       "1  tester  192.168.1.14           3"
      ]
     },
     "execution_count": 6,
     "metadata": {},
     "output_type": "execute_result"
    }
   ],
   "source": [
    "# Filter failed attempts and count by user and IP\n",
    "failures = login_df[login_df['status'] == 'failed']\n",
    "grouped = failures.groupby(['user', 'ip_address']).size().reset_index(name='fail_count')\n",
    "grouped"
   ]
  },
  {
   "cell_type": "code",
   "execution_count": 7,
   "id": "4242d721-b106-44eb-9d64-cc2753f4cdac",
   "metadata": {},
   "outputs": [
    {
     "data": {
      "text/html": [
       "<div>\n",
       "<style scoped>\n",
       "    .dataframe tbody tr th:only-of-type {\n",
       "        vertical-align: middle;\n",
       "    }\n",
       "\n",
       "    .dataframe tbody tr th {\n",
       "        vertical-align: top;\n",
       "    }\n",
       "\n",
       "    .dataframe thead th {\n",
       "        text-align: right;\n",
       "    }\n",
       "</style>\n",
       "<table border=\"1\" class=\"dataframe\">\n",
       "  <thead>\n",
       "    <tr style=\"text-align: right;\">\n",
       "      <th></th>\n",
       "      <th>user</th>\n",
       "      <th>ip_address</th>\n",
       "      <th>fail_count</th>\n",
       "      <th>anomaly</th>\n",
       "    </tr>\n",
       "  </thead>\n",
       "  <tbody>\n",
       "    <tr>\n",
       "      <th>0</th>\n",
       "      <td>admin</td>\n",
       "      <td>192.168.1.10</td>\n",
       "      <td>2</td>\n",
       "      <td>1</td>\n",
       "    </tr>\n",
       "    <tr>\n",
       "      <th>1</th>\n",
       "      <td>tester</td>\n",
       "      <td>192.168.1.14</td>\n",
       "      <td>3</td>\n",
       "      <td>1</td>\n",
       "    </tr>\n",
       "  </tbody>\n",
       "</table>\n",
       "</div>"
      ],
      "text/plain": [
       "     user    ip_address  fail_count  anomaly\n",
       "0   admin  192.168.1.10           2        1\n",
       "1  tester  192.168.1.14           3        1"
      ]
     },
     "execution_count": 7,
     "metadata": {},
     "output_type": "execute_result"
    }
   ],
   "source": [
    "# Anomaly detection: users with unusually high failed attempts\n",
    "model = IsolationForest(contamination=0.2, random_state=42)\n",
    "grouped['anomaly'] = model.fit_predict(grouped[['fail_count']])\n",
    "grouped"
   ]
  },
  {
   "cell_type": "code",
   "execution_count": 8,
   "id": "0c70526b-b5ec-4d53-a41b-59d6487b3d23",
   "metadata": {},
   "outputs": [
    {
     "name": "stdout",
     "output_type": "stream",
     "text": [
      "🚨 Anomalies Detected:\n"
     ]
    },
    {
     "data": {
      "text/html": [
       "<div>\n",
       "<style scoped>\n",
       "    .dataframe tbody tr th:only-of-type {\n",
       "        vertical-align: middle;\n",
       "    }\n",
       "\n",
       "    .dataframe tbody tr th {\n",
       "        vertical-align: top;\n",
       "    }\n",
       "\n",
       "    .dataframe thead th {\n",
       "        text-align: right;\n",
       "    }\n",
       "</style>\n",
       "<table border=\"1\" class=\"dataframe\">\n",
       "  <thead>\n",
       "    <tr style=\"text-align: right;\">\n",
       "      <th></th>\n",
       "      <th>user</th>\n",
       "      <th>ip_address</th>\n",
       "      <th>fail_count</th>\n",
       "      <th>anomaly</th>\n",
       "    </tr>\n",
       "  </thead>\n",
       "  <tbody>\n",
       "  </tbody>\n",
       "</table>\n",
       "</div>"
      ],
      "text/plain": [
       "Empty DataFrame\n",
       "Columns: [user, ip_address, fail_count, anomaly]\n",
       "Index: []"
      ]
     },
     "execution_count": 8,
     "metadata": {},
     "output_type": "execute_result"
    }
   ],
   "source": [
    "# Show users/IPs flagged as suspicious\n",
    "anomalies = grouped[grouped['anomaly'] == -1]\n",
    "print(\"🚨 Anomalies Detected:\")\n",
    "anomalies"
   ]
  },
  {
   "cell_type": "code",
   "execution_count": 9,
   "id": "05db075b-9944-41de-ba24-2fd0410ffc68",
   "metadata": {},
   "outputs": [
    {
     "data": {
      "image/png": "[encoded data removed]",
      "text/plain": [
       "<Figure size 640x480 with 1 Axes>"
      ]
     },
     "metadata": {},
     "output_type": "display_data"
    }
   ],
   "source": [
    "# Bar plot of failed attempts, highlighting anomalies\n",
    "sns.barplot(x='user', y='fail_count', hue='anomaly', data=grouped, palette='coolwarm')\n",
    "plt.title(\"Login Failures with Anomaly Detection\")\n",
    "plt.xlabel(\"User\")\n",
    "plt.ylabel(\"Failed Attempts\")\n",
    "plt.show()"
   ]
  },
  {
   "cell_type": "code",
   "execution_count": 10,
   "id": "59dd2bc1-c320-40be-a312-fe0553b5b892",
   "metadata": {},
   "outputs": [
    {
     "data": {
      "image/png": "[encoded data removed]",
      "text/plain": [
       "<Figure size 640x480 with 1 Axes>"
      ]
     },
     "metadata": {},
     "output_type": "display_data"
    }
   ],
   "source": [
    "# Convert -1 and 1 to labels for better coloring\n",
    "grouped['anomaly_label'] = grouped['anomaly'].map({-1: 'Anomaly', 1: 'Normal'})\n",
    "\n",
    "# Now plot using the labeled version\n",
    "sns.barplot(x='user', y='fail_count', hue='anomaly_label', data=grouped, palette='Set2')\n",
    "plt.title(\"Login Failures with Anomaly Detection\")\n",
    "plt.xlabel(\"User\")\n",
    "plt.ylabel(\"Failed Attempts\")\n",
    "plt.show()"
   ]
  },
  {
   "cell_type": "code",
   "execution_count": null,
   "id": "985a39da-b100-4452-9224-488580d4eed1",
   "metadata": {},
   "outputs": [],
   "source": []
  }
 ],
 "metadata": {
  "kernelspec": {
   "display_name": "Python 3 (ipykernel)",
   "language": "python",
   "name": "python3"
  },
  "language_info": {
   "codemirror_mode": {
    "name": "ipython",
    "version": 3
   },
   "file_extension": ".py",
   "mimetype": "text/x-python",
   "name": "python",
   "nbconvert_exporter": "python",
   "pygments_lexer": "ipython3",
   "version": "3.12.7"
  }
 },
 "nbformat": 4,
 "nbformat_minor": 5
}
